{
 "cells": [
  {
   "cell_type": "markdown",
   "metadata": {},
   "source": [
    "# Application of trained ZS-AMBER to a new task\n",
    "\n",
    "## Reload a trained ZS-AMBER"
   ]
  },
  {
   "cell_type": "code",
   "execution_count": 1,
   "metadata": {},
   "outputs": [
    {
     "name": "stdout",
     "output_type": "stream",
     "text": [
      "/mnt/home/zzhang/workspace/src/AMBER-ZeroShot/examples\n"
     ]
    },
    {
     "name": "stderr",
     "output_type": "stream",
     "text": [
      "Using TensorFlow backend.\n"
     ]
    }
   ],
   "source": [
    "%cd /mnt/home/zzhang/workspace/src/AMBER-ZeroShot/examples\n",
    "%run zero_shot_nas.real_deepsea.py"
   ]
  },
  {
   "cell_type": "code",
   "execution_count": 2,
   "metadata": {},
   "outputs": [
    {
     "name": "stdout",
     "output_type": "stream",
     "text": [
      "Namespace(config_file='data/zero_shot_deepsea/test_feats.representative_4.config_file.tsv', dfeature_name_file='data/zero_shot_deepsea/dfeatures_ordered_list.txt', lockstep_sampling=False, model_space='long_and_dilation', ppo=True, resume=False, train_file='data/zero_shot_deepsea/train.h5', val_file='data/zero_shot_deepsea/val.h5', wd='outputs/new_20200919/test_feats/zs_amber/')\n"
     ]
    }
   ],
   "source": [
    "import sys\n",
    "arg_str = \"\"\"foo \n",
    "--train-file data/zero_shot_deepsea/train.h5 \n",
    "--val-file data/zero_shot_deepsea/val.h5 \n",
    "--model-space long_and_dilation \n",
    "--ppo\n",
    "--wd outputs/new_20200919/test_feats/zs_amber/\n",
    "--config-file data/zero_shot_deepsea/test_feats.representative_4.config_file.tsv\n",
    "--dfeature-name-file data/zero_shot_deepsea/dfeatures_ordered_list.txt\n",
    "\"\"\"\n",
    "\n",
    "arg_list = arg_str.split()\n",
    "sys.argv = arg_list\n",
    "\n",
    "# fake arg parsing\n",
    "parser = argparse.ArgumentParser(description=\"experimental zero-shot nas\")\n",
    "parser.add_argument(\"--train-file\", type=str, required=True, help=\"Path to the hdf5 file of training data.\")\n",
    "parser.add_argument(\"--val-file\", type=str, required=True, help=\"Path to the hdf5 file of validation data.\")\n",
    "parser.add_argument(\"--model-space\", default=\"simple\", choices=['simple', 'long', 'long_and_dilation'], help=\"Model space choice\")\n",
    "parser.add_argument(\"--ppo\", default=False, action=\"store_true\", help=\"Use PPO instead of REINFORCE\")\n",
    "parser.add_argument(\"--wd\", type=str, default=\"./outputs/zero_shot/\", help=\"working dir\")\n",
    "parser.add_argument(\"--resume\", default=False, action=\"store_true\", help=\"resume previous run\")\n",
    "parser.add_argument(\"--config-file\", type=str, required=True, help=\"Path to the config file to use.\")\n",
    "parser.add_argument(\"--dfeature-name-file\", type=str, required=True, help=\"Path to file with dataset feature names listed one per line.\")\n",
    "parser.add_argument(\"--lockstep-sampling\", default=False, action=\"store_true\", help=\"Ensure same training samples used for all models.\")\n",
    "\n",
    "arg = parser.parse_args()\n",
    "print(arg)"
   ]
  },
  {
   "cell_type": "code",
   "execution_count": 3,
   "metadata": {},
   "outputs": [
    {
     "name": "stdout",
     "output_type": "stream",
     "text": [
      "{3: 0, 4: 1, 5: 2, 6: 0, 8: 2}\n"
     ]
    },
    {
     "name": "stderr",
     "output_type": "stream",
     "text": [
      "/mnt/home/zzhang/workspace/src/AMBER-ZeroShot/amber/architect/_general_controller.py:541: UserWarning: \n",
      "================================================================================\n",
      "Warning: the following tf.variables have no gradients and have been discarded: \n",
      " [<tf.Variable 'controller/create_weights/g_emb:0' shape=(1, 128) dtype=float32_ref>, <tf.Variable 'controller/create_weights/emb/layer_9/w_start:0' shape=(3, 128) dtype=float32_ref>]\n",
      "  optim_algo=self.optim_algo\n"
     ]
    }
   ],
   "source": [
    "configs, config_keys, controller, model_space = read_configs(arg, is_training=False)"
   ]
  },
  {
   "cell_type": "code",
   "execution_count": 4,
   "metadata": {},
   "outputs": [],
   "source": [
    "#print(configs)"
   ]
  },
  {
   "cell_type": "code",
   "execution_count": 5,
   "metadata": {},
   "outputs": [
    {
     "name": "stdout",
     "output_type": "stream",
     "text": [
      "dict_keys([0, 1, 2, 3])\n"
     ]
    }
   ],
   "source": [
    "# get random 4 testing features\n",
    "test_feats = [\n",
    "    'FEAT480',  # \"YY1\"   \"H1-hESC\"\n",
    "    'FEAT282',  # \"DNase\" \"WI-38\"\n",
    "    'FEAT304',  # \"Pol2\"  \"A549\"\n",
    "    'FEAT144'   # \"H3k4me3\" \"NHLF\"\n",
    "]\n",
    "configs = {k:configs[k] for k in configs if configs[k]['feat_name'] in test_feats}\n",
    "print(configs.keys())"
   ]
  },
  {
   "cell_type": "code",
   "execution_count": 6,
   "metadata": {},
   "outputs": [
    {
     "name": "stderr",
     "output_type": "stream",
     "text": [
      "/mnt/home/zzhang/workspace/programs/anaconda3/envs/amber-zh/lib/python3.7/site-packages/h5py/_hl/dataset.py:313: H5pyDeprecationWarning: dataset.value has been deprecated. Use dataset[()] instead.\n",
      "  \"Use dataset[()] instead.\", H5pyDeprecationWarning)\n"
     ]
    },
    {
     "name": "stdout",
     "output_type": "stream",
     "text": [
      "FEAT480\n",
      "[3 0 2 6 1 2 6 0 2 0]\n",
      "[array([[8.0534242e-12, 4.3316533e-09, 8.5733082e-10, 1.0000000e+00,\n",
      "        8.2404439e-12, 5.5461019e-10, 6.4222593e-11]], dtype=float32), array([[1.0000000e+00, 1.1177606e-13]], dtype=float32), array([[1.3930006e-13, 2.8718092e-13, 1.0000000e+00]], dtype=float32), array([[7.0824450e-14, 7.6637474e-11, 9.5581338e-12, 9.5180344e-09,\n",
      "        2.3586165e-13, 3.2427332e-11, 1.0000000e+00]], dtype=float32), array([[5.3825455e-10, 1.0000000e+00]], dtype=float32), array([[5.3258975e-14, 1.0959014e-12, 1.0000000e+00]], dtype=float32), array([[2.8883767e-17, 2.0327639e-15, 2.3332895e-14, 2.3591358e-15,\n",
      "        6.0238449e-17, 5.9949014e-14, 1.0000000e+00]], dtype=float32), array([[1.0000000e+00, 1.4743487e-18, 2.2894671e-16, 1.0035300e-17]],\n",
      "      dtype=float32), array([[7.282041e-14, 9.567595e-13, 1.000000e+00]], dtype=float32), array([[1.0000000e+00, 3.4371446e-17, 6.5259918e-16]], dtype=float32)]\n",
      "----------\n",
      "FEAT282\n",
      "[3 1 0 6 1 2 6 0 2 0]\n",
      "[array([[1.1649705e-13, 3.9679108e-13, 2.4231147e-11, 1.0000000e+00,\n",
      "        1.0381441e-13, 7.3895464e-12, 1.6675936e-14]], dtype=float32), array([[7.448973e-14, 1.000000e+00]], dtype=float32), array([[1.0000000e+00, 2.3192545e-11, 1.2575331e-09]], dtype=float32), array([[9.0230625e-14, 3.4627303e-12, 5.6099309e-12, 4.4941504e-16,\n",
      "        1.0530876e-13, 2.3549291e-14, 1.0000000e+00]], dtype=float32), array([[1.279775e-09, 1.000000e+00]], dtype=float32), array([[5.39548e-16, 3.32204e-18, 1.00000e+00]], dtype=float32), array([[2.8553657e-19, 2.7439511e-16, 3.1635843e-17, 5.0827912e-18,\n",
      "        1.9151901e-18, 2.4417964e-16, 1.0000000e+00]], dtype=float32), array([[1.0000000e+00, 2.7819968e-18, 6.9508814e-17, 1.3543482e-18]],\n",
      "      dtype=float32), array([[2.8635047e-14, 5.1601074e-14, 1.0000000e+00]], dtype=float32), array([[1.0000000e+00, 5.8292086e-17, 4.9088190e-16]], dtype=float32)]\n",
      "----------\n",
      "FEAT304\n",
      "[2 0 0 6 1 2 6 0 2 0]\n",
      "[array([[9.2000669e-13, 1.2446702e-03, 9.9875534e-01, 2.2372254e-12,\n",
      "        8.2607879e-13, 5.7678782e-11, 4.1526860e-12]], dtype=float32), array([[1.0000000e+00, 1.5102934e-15]], dtype=float32), array([[1.0000000e+00, 1.1647795e-09, 1.9270427e-08]], dtype=float32), array([[1.6670371e-14, 8.0835523e-13, 6.5953042e-12, 1.4934691e-12,\n",
      "        2.0530266e-14, 1.3882580e-13, 1.0000000e+00]], dtype=float32), array([[1.1073807e-11, 1.0000000e+00]], dtype=float32), array([[3.7783953e-16, 7.1378467e-17, 1.0000000e+00]], dtype=float32), array([[3.4753890e-19, 7.0830020e-17, 1.1833233e-16, 8.2283097e-18,\n",
      "        1.3596904e-18, 5.3076588e-16, 1.0000000e+00]], dtype=float32), array([[1.0000000e+00, 6.4455490e-19, 2.7931957e-17, 6.6108218e-19]],\n",
      "      dtype=float32), array([[3.3919001e-14, 2.7510194e-13, 1.0000000e+00]], dtype=float32), array([[1.0000000e+00, 1.1295442e-16, 3.6451425e-16]], dtype=float32)]\n",
      "----------\n",
      "FEAT144\n",
      "[2 0 0 6 1 2 6 0 2 0]\n",
      "[array([[2.4415428e-14, 6.1541021e-09, 1.0000000e+00, 6.6638132e-12,\n",
      "        7.2132133e-14, 1.6878873e-11, 8.2292805e-11]], dtype=float32), array([[1.000000e+00, 9.471355e-15]], dtype=float32), array([[1.0000000e+00, 1.2735747e-10, 4.6436326e-09]], dtype=float32), array([[1.4219788e-14, 3.5380563e-13, 5.8597675e-12, 2.8485856e-13,\n",
      "        1.8365797e-14, 8.8334484e-14, 1.0000000e+00]], dtype=float32), array([[1.2434122e-11, 1.0000000e+00]], dtype=float32), array([[2.8712297e-16, 5.8363733e-17, 1.0000000e+00]], dtype=float32), array([[3.2100434e-19, 6.8602376e-17, 1.1968245e-16, 7.3847616e-18,\n",
      "        1.2486839e-18, 5.0805481e-16, 1.0000000e+00]], dtype=float32), array([[1.0000000e+00, 5.5353820e-19, 2.5601121e-17, 6.1527328e-19]],\n",
      "      dtype=float32), array([[3.3015681e-14, 2.6958757e-13, 1.0000000e+00]], dtype=float32), array([[1.00000000e+00, 1.05115346e-16, 3.60647041e-16]], dtype=float32)]\n",
      "----------\n"
     ]
    }
   ],
   "source": [
    "controller.load_weights(\"outputs/new_20200919/long_and_dilation.ppo.0/controller_weights.h5\")\n",
    "for k in configs:\n",
    "    print(configs[k]['feat_name'])\n",
    "    a, p = controller.get_action(np.expand_dims(configs[k]['dfeatures'],0))\n",
    "    print(a); print(p)\n",
    "    print('-'*10)"
   ]
  },
  {
   "cell_type": "code",
   "execution_count": 7,
   "metadata": {},
   "outputs": [
    {
     "name": "stdout",
     "output_type": "stream",
     "text": [
      "----------\n",
      "FEAT480\n",
      "----------\n"
     ]
    },
    {
     "name": "stderr",
     "output_type": "stream",
     "text": [
      "[1546964][20:22:47] Preprocessing..  0.809 sec\n",
      "[1546964][20:22:48] Trial 0: Start training model..  632.368 sec\n",
      "[1546964] Postprocessing..WARNING: Logging before flag parsing goes to stderr.\n",
      "W1001 20:33:21.987612 46912496537280 font_manager.py:1282] findfont: Font family ['serif'] not found. Falling back to DejaVu Sans.\n",
      "  6.466 sec\n",
      "[1546964] Cleaning up..  0.479 sec\n",
      "[1546964][20:33:27] Preprocessing.."
     ]
    },
    {
     "name": "stdout",
     "output_type": "stream",
     "text": [
      "0.8604938910183814\n"
     ]
    },
    {
     "name": "stderr",
     "output_type": "stream",
     "text": [
      "  0.198 sec\n",
      "[1546964][20:33:28] Trial 1: Start training model..  449.454 sec\n",
      "[1546964] Postprocessing..  3.936 sec\n",
      "[1546964] Cleaning up..  0.407 sec\n",
      "[1546964][20:41:02] Preprocessing..  0.195 sec\n",
      "[1546964][20:41:02] Trial 2: Start training model.."
     ]
    },
    {
     "name": "stdout",
     "output_type": "stream",
     "text": [
      "0.9047567841275374\n"
     ]
    },
    {
     "name": "stderr",
     "output_type": "stream",
     "text": [
      "  372.342 sec\n",
      "[1546964] Postprocessing..  4.119 sec\n",
      "[1546964] Cleaning up..  0.328 sec\n",
      "[1546964][20:47:18] Preprocessing.."
     ]
    },
    {
     "name": "stdout",
     "output_type": "stream",
     "text": [
      "0.8612826955745273\n"
     ]
    },
    {
     "name": "stderr",
     "output_type": "stream",
     "text": [
      "  0.194 sec\n",
      "[1546964][20:47:19] Trial 3: Start training model..  334.928 sec\n",
      "[1546964] Postprocessing..  3.823 sec\n",
      "[1546964] Cleaning up..  0.391 sec\n",
      "[1546964][20:52:58] Preprocessing.."
     ]
    },
    {
     "name": "stdout",
     "output_type": "stream",
     "text": [
      "0.8418525132851294\n"
     ]
    },
    {
     "name": "stderr",
     "output_type": "stream",
     "text": [
      "  0.279 sec\n",
      "[1546964][20:52:58] Trial 4: Start training model..  260.596 sec\n",
      "[1546964] Postprocessing..  3.270 sec\n",
      "[1546964] Cleaning up..  0.360 sec\n",
      "[1546964][20:57:22] Preprocessing.."
     ]
    },
    {
     "name": "stdout",
     "output_type": "stream",
     "text": [
      "0.8264664006010977\n"
     ]
    },
    {
     "name": "stderr",
     "output_type": "stream",
     "text": [
      "  0.191 sec\n",
      "[1546964][20:57:23] Trial 5: Start training model..  506.790 sec\n",
      "[1546964] Postprocessing..  4.075 sec\n",
      "[1546964] Cleaning up..  0.376 sec\n",
      "[1546964][21:05:54] Preprocessing.."
     ]
    },
    {
     "name": "stdout",
     "output_type": "stream",
     "text": [
      "0.9201170343671052\n"
     ]
    },
    {
     "name": "stderr",
     "output_type": "stream",
     "text": [
      "  0.190 sec\n",
      "[1546964][21:05:54] Trial 6: Start training model..  439.923 sec\n",
      "[1546964] Postprocessing..  3.611 sec\n",
      "[1546964] Cleaning up..  0.553 sec\n",
      "[1546964][21:13:18] Preprocessing.."
     ]
    },
    {
     "name": "stdout",
     "output_type": "stream",
     "text": [
      "0.8799376851206552\n"
     ]
    },
    {
     "name": "stderr",
     "output_type": "stream",
     "text": [
      "  0.265 sec\n",
      "[1546964][21:13:18] Trial 7: Start training model..  507.227 sec\n",
      "[1546964] Postprocessing..  3.989 sec\n",
      "[1546964] Cleaning up..  0.483 sec\n",
      "[1546964][21:21:50] Preprocessing.."
     ]
    },
    {
     "name": "stdout",
     "output_type": "stream",
     "text": [
      "0.9138481139472079\n"
     ]
    },
    {
     "name": "stderr",
     "output_type": "stream",
     "text": [
      "  0.197 sec\n",
      "[1546964][21:21:50] Trial 8: Start training model..  502.970 sec\n",
      "[1546964] Postprocessing..  3.346 sec\n",
      "[1546964] Cleaning up..  0.505 sec\n",
      "[1546964][21:30:17] Preprocessing..  0.185 sec\n",
      "[1546964][21:30:17] Trial 9: Start training model.."
     ]
    },
    {
     "name": "stdout",
     "output_type": "stream",
     "text": [
      "0.8934793971600314\n"
     ]
    },
    {
     "name": "stderr",
     "output_type": "stream",
     "text": [
      "  283.567 sec\n",
      "[1546964] Postprocessing..  3.813 sec\n",
      "[1546964] Cleaning up..  0.448 sec\n",
      "[1546964][21:35:05] Preprocessing.."
     ]
    },
    {
     "name": "stdout",
     "output_type": "stream",
     "text": [
      "0.8295882698841363\n",
      "----------\n",
      "FEAT282\n",
      "----------\n"
     ]
    },
    {
     "name": "stderr",
     "output_type": "stream",
     "text": [
      "  0.358 sec\n",
      "[1546964][21:35:05] Trial 0: Start training model..  505.951 sec\n",
      "[1546964] Postprocessing..  4.284 sec\n",
      "[1546964] Cleaning up..  0.649 sec\n",
      "[1546964][21:43:36] Preprocessing.."
     ]
    },
    {
     "name": "stdout",
     "output_type": "stream",
     "text": [
      "0.8535324325876341\n"
     ]
    },
    {
     "name": "stderr",
     "output_type": "stream",
     "text": [
      "  0.188 sec\n",
      "[1546964][21:43:37] Trial 1: Start training model..  502.820 sec\n",
      "[1546964] Postprocessing..  3.444 sec\n",
      "[1546964] Cleaning up..  0.552 sec\n",
      "[1546964][21:52:03] Preprocessing.."
     ]
    },
    {
     "name": "stdout",
     "output_type": "stream",
     "text": [
      "0.850430274243431\n"
     ]
    },
    {
     "name": "stderr",
     "output_type": "stream",
     "text": [
      "  0.259 sec\n",
      "[1546964][21:52:04] Trial 2: Start training model..  336.007 sec\n",
      "[1546964] Postprocessing..  3.766 sec\n",
      "[1546964] Cleaning up..  0.564 sec\n",
      "[1546964][21:57:44] Preprocessing.."
     ]
    },
    {
     "name": "stdout",
     "output_type": "stream",
     "text": [
      "0.7912296245252217\n"
     ]
    },
    {
     "name": "stderr",
     "output_type": "stream",
     "text": [
      "  0.186 sec\n",
      "[1546964][21:57:44] Trial 3: Start training model..  451.181 sec\n",
      "[1546964] Postprocessing..  3.784 sec\n",
      "[1546964] Cleaning up..  0.509 sec\n",
      "[1546964][22:05:20] Preprocessing.."
     ]
    },
    {
     "name": "stdout",
     "output_type": "stream",
     "text": [
      "0.8442271880819366\n"
     ]
    },
    {
     "name": "stderr",
     "output_type": "stream",
     "text": [
      "  0.198 sec\n",
      "[1546964][22:05:20] Trial 4: Start training model..  504.976 sec\n",
      "[1546964] Postprocessing..  3.370 sec\n",
      "[1546964] Cleaning up..  0.555 sec\n",
      "[1546964][22:13:49] Preprocessing.."
     ]
    },
    {
     "name": "stdout",
     "output_type": "stream",
     "text": [
      "0.8299397451988942\n"
     ]
    },
    {
     "name": "stderr",
     "output_type": "stream",
     "text": [
      "  0.196 sec\n",
      "[1546964][22:13:49] Trial 5: Start training model..  492.431 sec\n",
      "[1546964] Postprocessing..  3.027 sec\n",
      "[1546964] Cleaning up..  0.745 sec\n",
      "[1546964][22:22:05] Preprocessing.."
     ]
    },
    {
     "name": "stdout",
     "output_type": "stream",
     "text": [
      "0.8674002657938129\n"
     ]
    },
    {
     "name": "stderr",
     "output_type": "stream",
     "text": [
      "  0.186 sec\n",
      "[1546964][22:22:05] Trial 6: Start training model..  501.557 sec\n",
      "[1546964] Postprocessing..  3.054 sec\n",
      "[1546964] Cleaning up..  0.670 sec\n",
      "[1546964][22:30:31] Preprocessing.."
     ]
    },
    {
     "name": "stdout",
     "output_type": "stream",
     "text": [
      "0.8716814740071699\n"
     ]
    },
    {
     "name": "stderr",
     "output_type": "stream",
     "text": [
      "  0.190 sec\n",
      "[1546964][22:30:31] Trial 7: Start training model..  498.867 sec\n",
      "[1546964] Postprocessing..  3.481 sec\n",
      "[1546964] Cleaning up..  0.689 sec\n",
      "[1546964][22:38:54] Preprocessing.."
     ]
    },
    {
     "name": "stdout",
     "output_type": "stream",
     "text": [
      "0.851811745789547\n"
     ]
    },
    {
     "name": "stderr",
     "output_type": "stream",
     "text": [
      "  0.190 sec\n",
      "[1546964][22:38:54] Trial 8: Start training model..  483.377 sec\n",
      "[1546964] Postprocessing..  3.684 sec\n",
      "[1546964] Cleaning up..  0.795 sec\n",
      "[1546964][22:47:02] Preprocessing.."
     ]
    },
    {
     "name": "stdout",
     "output_type": "stream",
     "text": [
      "0.8524421857439355\n"
     ]
    },
    {
     "name": "stderr",
     "output_type": "stream",
     "text": [
      "  0.189 sec\n",
      "[1546964][22:47:02] Trial 9: Start training model..  506.190 sec\n",
      "[1546964] Postprocessing..  4.485 sec\n",
      "[1546964] Cleaning up..  0.740 sec\n",
      "[1546964][22:55:34] Preprocessing.."
     ]
    },
    {
     "name": "stdout",
     "output_type": "stream",
     "text": [
      "0.8505069770875888\n",
      "----------\n",
      "FEAT304\n",
      "----------\n"
     ]
    },
    {
     "name": "stderr",
     "output_type": "stream",
     "text": [
      "  0.237 sec\n",
      "[1546964][22:55:34] Trial 0: Start training model..  505.125 sec\n",
      "[1546964] Postprocessing..  3.833 sec\n",
      "[1546964] Cleaning up..  0.764 sec\n",
      "[1546964][23:04:04] Preprocessing..  0.187 sec\n",
      "[1546964][23:04:04] Trial 1: Start training model.."
     ]
    },
    {
     "name": "stdout",
     "output_type": "stream",
     "text": [
      "0.9803022984341666\n"
     ]
    },
    {
     "name": "stderr",
     "output_type": "stream",
     "text": [
      "  499.736 sec\n",
      "[1546964] Postprocessing..  3.907 sec\n",
      "[1546964] Cleaning up..  0.785 sec\n",
      "[1546964][23:12:28] Preprocessing.."
     ]
    },
    {
     "name": "stdout",
     "output_type": "stream",
     "text": [
      "0.9785321821036106\n"
     ]
    },
    {
     "name": "stderr",
     "output_type": "stream",
     "text": [
      "  0.188 sec\n",
      "[1546964][23:12:28] Trial 2: Start training model..  506.762 sec\n",
      "[1546964] Postprocessing..  3.594 sec\n",
      "[1546964] Cleaning up..  0.725 sec\n",
      "[1546964][23:21:00] Preprocessing.."
     ]
    },
    {
     "name": "stdout",
     "output_type": "stream",
     "text": [
      "0.9769633297105824\n"
     ]
    },
    {
     "name": "stderr",
     "output_type": "stream",
     "text": [
      "  0.262 sec\n",
      "[1546964][23:21:00] Trial 3: Start training model..  474.071 sec\n",
      "[1546964] Postprocessing..  3.489 sec\n",
      "[1546964] Cleaning up..  0.792 sec\n",
      "[1546964][23:28:58] Preprocessing.."
     ]
    },
    {
     "name": "stdout",
     "output_type": "stream",
     "text": [
      "0.9799178843134887\n"
     ]
    },
    {
     "name": "stderr",
     "output_type": "stream",
     "text": [
      "  0.186 sec\n",
      "[1546964][23:28:58] Trial 4: Start training model..  504.665 sec\n",
      "[1546964] Postprocessing..  4.415 sec\n",
      "[1546964] Cleaning up..  0.709 sec\n",
      "[1546964][23:37:28] Preprocessing.."
     ]
    },
    {
     "name": "stdout",
     "output_type": "stream",
     "text": [
      "0.9748721973996699\n"
     ]
    },
    {
     "name": "stderr",
     "output_type": "stream",
     "text": [
      "  0.201 sec\n",
      "[1546964][23:37:28] Trial 5: Start training model..  488.390 sec\n",
      "[1546964] Postprocessing..  5.560 sec\n",
      "[1546964] Cleaning up..  0.934 sec\n",
      "[1546964][23:45:43] Preprocessing.."
     ]
    },
    {
     "name": "stdout",
     "output_type": "stream",
     "text": [
      "0.977443344201586\n"
     ]
    },
    {
     "name": "stderr",
     "output_type": "stream",
     "text": [
      "  0.186 sec\n",
      "[1546964][23:45:43] Trial 6: Start training model..  397.876 sec\n",
      "[1546964] Postprocessing..  3.705 sec\n",
      "[1546964] Cleaning up..  0.888 sec\n",
      "[1546964][23:52:26] Preprocessing..  0.184 sec\n",
      "[1546964][23:52:26] Trial 7: Start training model.."
     ]
    },
    {
     "name": "stdout",
     "output_type": "stream",
     "text": [
      "0.9742704182264622\n"
     ]
    },
    {
     "name": "stderr",
     "output_type": "stream",
     "text": [
      "  499.782 sec\n",
      "[1546964] Postprocessing..  3.458 sec\n",
      "[1546964] Cleaning up..  0.910 sec\n",
      "[1546964][00:00:50] Preprocessing.."
     ]
    },
    {
     "name": "stdout",
     "output_type": "stream",
     "text": [
      "0.9807953950811092\n"
     ]
    },
    {
     "name": "stderr",
     "output_type": "stream",
     "text": [
      "  0.188 sec\n",
      "[1546964][00:00:50] Trial 8: Start training model..  416.400 sec\n",
      "[1546964] Postprocessing..  3.303 sec\n",
      "[1546964] Cleaning up..  0.858 sec\n",
      "[1546964][00:07:51] Preprocessing..  0.186 sec\n",
      "[1546964][00:07:51] Trial 9: Start training model.."
     ]
    },
    {
     "name": "stdout",
     "output_type": "stream",
     "text": [
      "0.9793291872962202\n"
     ]
    },
    {
     "name": "stderr",
     "output_type": "stream",
     "text": [
      "  220.508 sec\n",
      "[1546964] Postprocessing..  3.609 sec\n",
      "[1546964] Cleaning up..  0.756 sec\n",
      "[1546964][00:11:36] Preprocessing.."
     ]
    },
    {
     "name": "stdout",
     "output_type": "stream",
     "text": [
      "0.9736203357082478\n",
      "----------\n",
      "FEAT144\n",
      "----------\n"
     ]
    },
    {
     "name": "stderr",
     "output_type": "stream",
     "text": [
      "  0.256 sec\n",
      "[1546964][00:11:36] Trial 0: Start training model..  496.847 sec\n",
      "[1546964] Postprocessing..  3.857 sec\n",
      "[1546964] Cleaning up..  1.040 sec\n",
      "[1546964][00:19:58] Preprocessing..  0.185 sec\n",
      "[1546964][00:19:58] Trial 1: Start training model.."
     ]
    },
    {
     "name": "stdout",
     "output_type": "stream",
     "text": [
      "0.9467709557383469\n"
     ]
    },
    {
     "name": "stderr",
     "output_type": "stream",
     "text": [
      "  502.836 sec\n",
      "[1546964] Postprocessing..  3.593 sec\n",
      "[1546964] Cleaning up..  0.797 sec\n",
      "[1546964][00:28:25] Preprocessing.."
     ]
    },
    {
     "name": "stdout",
     "output_type": "stream",
     "text": [
      "0.9415887354746051\n"
     ]
    },
    {
     "name": "stderr",
     "output_type": "stream",
     "text": [
      "  0.188 sec\n",
      "[1546964][00:28:26] Trial 2: Start training model..  499.218 sec\n",
      "[1546964] Postprocessing..  3.734 sec\n",
      "[1546964] Cleaning up..  1.017 sec\n",
      "[1546964][00:36:50] Preprocessing.."
     ]
    },
    {
     "name": "stdout",
     "output_type": "stream",
     "text": [
      "0.9391524676850764\n"
     ]
    },
    {
     "name": "stderr",
     "output_type": "stream",
     "text": [
      "  0.188 sec\n",
      "[1546964][00:36:50] Trial 3: Start training model..  400.368 sec\n",
      "[1546964] Postprocessing..  3.709 sec\n",
      "[1546964] Cleaning up..  0.949 sec\n",
      "[1546964][00:43:35] Preprocessing.."
     ]
    },
    {
     "name": "stdout",
     "output_type": "stream",
     "text": [
      "0.937535701462332\n"
     ]
    },
    {
     "name": "stderr",
     "output_type": "stream",
     "text": [
      "  0.200 sec\n",
      "[1546964][00:43:35] Trial 4: Start training model..  499.636 sec\n",
      "[1546964] Postprocessing..  4.741 sec\n",
      "[1546964] Cleaning up..  1.045 sec\n",
      "[1546964][00:52:01] Preprocessing.."
     ]
    },
    {
     "name": "stdout",
     "output_type": "stream",
     "text": [
      "0.9497766108499803\n"
     ]
    },
    {
     "name": "stderr",
     "output_type": "stream",
     "text": [
      "  0.261 sec\n",
      "[1546964][00:52:01] Trial 5: Start training model..  308.000 sec\n",
      "[1546964] Postprocessing..  3.927 sec\n",
      "[1546964] Cleaning up..  0.885 sec\n",
      "[1546964][00:57:14] Preprocessing.."
     ]
    },
    {
     "name": "stdout",
     "output_type": "stream",
     "text": [
      "0.9321676295861078\n"
     ]
    },
    {
     "name": "stderr",
     "output_type": "stream",
     "text": [
      "  0.189 sec\n",
      "[1546964][00:57:14] Trial 6: Start training model..  497.033 sec\n",
      "[1546964] Postprocessing..  3.565 sec\n",
      "[1546964] Cleaning up..  1.096 sec\n",
      "[1546964][01:05:36] Preprocessing.."
     ]
    },
    {
     "name": "stdout",
     "output_type": "stream",
     "text": [
      "0.9456152484005744\n"
     ]
    },
    {
     "name": "stderr",
     "output_type": "stream",
     "text": [
      "  0.190 sec\n",
      "[1546964][01:05:36] Trial 7: Start training model..  500.417 sec\n",
      "[1546964] Postprocessing..  3.621 sec\n",
      "[1546964] Cleaning up..  1.031 sec\n",
      "[1546964][01:14:01] Preprocessing..  0.189 sec\n",
      "[1546964][01:14:01] Trial 8: Start training model.."
     ]
    },
    {
     "name": "stdout",
     "output_type": "stream",
     "text": [
      "0.9442643050659356\n"
     ]
    },
    {
     "name": "stderr",
     "output_type": "stream",
     "text": [
      "  366.112 sec\n",
      "[1546964] Postprocessing..  3.468 sec\n",
      "[1546964] Cleaning up..  1.038 sec\n",
      "[1546964][01:20:12] Preprocessing..  0.184 sec\n",
      "[1546964][01:20:12] Trial 9: Start training model.."
     ]
    },
    {
     "name": "stdout",
     "output_type": "stream",
     "text": [
      "0.9408000391696044\n"
     ]
    },
    {
     "name": "stderr",
     "output_type": "stream",
     "text": [
      "  504.220 sec\n",
      "[1546964] Postprocessing..  3.587 sec\n",
      "[1546964] Cleaning up.."
     ]
    },
    {
     "name": "stdout",
     "output_type": "stream",
     "text": [
      "0.9457817192192193\n"
     ]
    },
    {
     "name": "stderr",
     "output_type": "stream",
     "text": [
      "  1.135 sec\n"
     ]
    },
    {
     "data": {
      "text/plain": [
       "<Figure size 900x900 with 0 Axes>"
      ]
     },
     "metadata": {},
     "output_type": "display_data"
    }
   ],
   "source": [
    "n_rep = 10\n",
    "# full data is 4.4m with pos+neg strands\n",
    "full_training_patience = 40\n",
    "zs_res = {}\n",
    "\n",
    "global_manager_trial_cnt = {k:0 for k in configs}\n",
    "global_manager_record = pd.DataFrame(columns=['manager', 'feat_name', 'amber', 'step', 'arc', 'reward'])\n",
    "\n",
    "for k in configs:\n",
    "    feat_name = configs[k]['feat_name']\n",
    "    print('-'*10); print(feat_name); print('-'*10)\n",
    "    res_list = []\n",
    "    manager = configs[k]['manager']\n",
    "    manager._earlystop_patience = full_training_patience\n",
    "    manager.verbose=0\n",
    "    for i in range(n_rep):\n",
    "        arc, prob = controller.get_action(np.expand_dims(configs[k]['dfeatures'],0))\n",
    "        reward, _ = manager.get_rewards(trial=global_manager_trial_cnt[k], model_arc=arc)\n",
    "        global_manager_trial_cnt[k] += 1\n",
    "        print(reward)\n",
    "        res_list.append(reward)\n",
    "        global_manager_record = global_manager_record.append({\n",
    "            'manager': k, \n",
    "            'feat_name': feat_name, \n",
    "            'amber': 'zs', \n",
    "            'step': i,\n",
    "            'arc': ','.join([str(a) for a in arc]),\n",
    "            'reward': reward\n",
    "        }, ignore_index=True)\n",
    "    zs_res[k] = res_list"
   ]
  },
  {
   "cell_type": "code",
   "execution_count": 8,
   "metadata": {},
   "outputs": [
    {
     "name": "stdout",
     "output_type": "stream",
     "text": [
      "{0: [0.8604938910183814, 0.9047567841275374, 0.8612826955745273, 0.8418525132851294, 0.8264664006010977, 0.9201170343671052, 0.8799376851206552, 0.9138481139472079, 0.8934793971600314, 0.8295882698841363], 1: [0.8535324325876341, 0.850430274243431, 0.7912296245252217, 0.8442271880819366, 0.8299397451988942, 0.8674002657938129, 0.8716814740071699, 0.851811745789547, 0.8524421857439355, 0.8505069770875888], 2: [0.9803022984341666, 0.9785321821036106, 0.9769633297105824, 0.9799178843134887, 0.9748721973996699, 0.977443344201586, 0.9742704182264622, 0.9807953950811092, 0.9793291872962202, 0.9736203357082478], 3: [0.9467709557383469, 0.9415887354746051, 0.9391524676850764, 0.937535701462332, 0.9497766108499803, 0.9321676295861078, 0.9456152484005744, 0.9442643050659356, 0.9408000391696044, 0.9457817192192193]}\n"
     ]
    }
   ],
   "source": [
    "print(zs_res)"
   ]
  },
  {
   "cell_type": "code",
   "execution_count": 9,
   "metadata": {},
   "outputs": [
    {
     "data": {
      "image/png": "[encoded data removed]",
      "text/plain": [
       "<Figure size 432x288 with 1 Axes>"
      ]
     },
     "metadata": {
      "needs_background": "light"
     },
     "output_type": "display_data"
    },
    {
     "data": {
      "image/png": "[encoded data removed]",
      "text/plain": [
       "<Figure size 432x288 with 1 Axes>"
      ]
     },
     "metadata": {
      "needs_background": "light"
     },
     "output_type": "display_data"
    },
    {
     "data": {
      "image/png": "[encoded data removed]",
      "text/plain": [
       "<Figure size 432x288 with 1 Axes>"
      ]
     },
     "metadata": {
      "needs_background": "light"
     },
     "output_type": "display_data"
    },
    {
     "data": {
      "image/png": "[encoded data removed]",
      "text/plain": [
       "<Figure size 432x288 with 1 Axes>"
      ]
     },
     "metadata": {
      "needs_background": "light"
     },
     "output_type": "display_data"
    }
   ],
   "source": [
    "import seaborn as sns\n",
    "import matplotlib.pyplot as plt\n",
    "\n",
    "for k in configs:\n",
    "    res_list = zs_res[k]\n",
    "    ax =sns.distplot(res_list)\n",
    "    ax.set_title(\"%s, avg=%.3f\"%(configs[k]['feat_name'], np.mean(res_list)))\n",
    "    plt.show()"
   ]
  },
  {
   "cell_type": "markdown",
   "metadata": {},
   "source": [
    "# Reload single-run AMBER and re-train for full epochs"
   ]
  },
  {
   "cell_type": "code",
   "execution_count": 10,
   "metadata": {},
   "outputs": [],
   "source": [
    "from datetime import datetime\n",
    "import os\n",
    "\n",
    "par_wd = \"/mnt/home/zzhang/workspace/src/AMBER-ZeroShot/examples/outputs/new_20200919/test_feats/single_run/\"\n",
    "sr_hist = {}\n",
    "for k in configs:\n",
    "    feat_name = configs[k]['feat_name']\n",
    "    wd = \"%s/%s/\" % (par_wd, feat_name)\n",
    "    train_hist = pd.read_table(os.path.join(wd,\"train_history.csv\"), header=None, sep=\",\")\n",
    "    train_hist.head()\n",
    "    # each controller step has 5 child networks sampled..\n",
    "    train_hist['step'] = train_hist[0]//5\n",
    "    train_hist['auc'] = train_hist[2]\n",
    "    dt = []\n",
    "    for i in range(train_hist.shape[0]):\n",
    "        child_model_fp = os.path.join(wd, \"weights\", \"trial_%i\"%train_hist.iloc[i][0])\n",
    "        timestamp = os.path.getmtime(child_model_fp)\n",
    "        timestamp = datetime.fromtimestamp(timestamp)\n",
    "        if i==0:\n",
    "            starttime = timestamp\n",
    "        dt.append(timestamp - starttime)\n",
    "\n",
    "    train_hist['ctime'] = dt\n",
    "    train_hist = train_hist.loc[train_hist['step']<=60]\n",
    "    sr_hist[k] = train_hist"
   ]
  },
  {
   "cell_type": "code",
   "execution_count": 11,
   "metadata": {},
   "outputs": [
    {
     "name": "stdout",
     "output_type": "stream",
     "text": [
      "[304   1 days 23:48:00.911253\n",
      "Name: ctime, dtype: timedelta64[ns], 304   2 days 04:19:56.292139\n",
      "Name: ctime, dtype: timedelta64[ns], 304   1 days 22:17:35.394065\n",
      "Name: ctime, dtype: timedelta64[ns], 304   1 days 22:35:13.054455\n",
      "Name: ctime, dtype: timedelta64[ns]]\n"
     ]
    }
   ],
   "source": [
    "delta_time = [sr_hist[k].ctime.tail(1) for k in configs]\n",
    "print(delta_time)\n",
    "#sns.distplot(delta_time)"
   ]
  },
  {
   "cell_type": "code",
   "execution_count": 12,
   "metadata": {},
   "outputs": [
    {
     "name": "stdout",
     "output_type": "stream",
     "text": [
      "[ 0  5 10 15 20 25 30 35 40 45 50 55]\n",
      "[ 0  5 10 15 20 25 30 35 40 45 50 55]\n",
      "[ 0  5 10 15 20 25 30 35 40 45 50 55]\n",
      "[ 0  5 10 15 20 25 30 35 40 45 50 55]\n"
     ]
    }
   ],
   "source": [
    "sampling_interval = 5\n",
    "do_retrain = False\n",
    "n_rep = 10\n",
    "\n",
    "sr_res = {}\n",
    "for k in configs:\n",
    "    np.random.seed(1223)\n",
    "    train_hist = sr_hist[k]\n",
    "    single_run_res = {}\n",
    "    step_time = {}\n",
    "    arc_seq_cols = np.arange(3, 13, dtype='int')\n",
    "    steps_to_retrain = np.arange(0, train_hist['step'].max(), sampling_interval)\n",
    "    #steps_to_retrain = np.concatenate([steps_to_retrain, [train_hist['step'].max()]])\n",
    "    print(steps_to_retrain)\n",
    "    for step in steps_to_retrain[1:]:\n",
    "        #arcs = train_hist.loc[train_hist['step'] == step]\n",
    "        step_idx = (train_hist['step']<=step) & (train_hist['step']>step-sampling_interval)\n",
    "        arcs = train_hist.loc[ step_idx ]\n",
    "        arcs = arcs[arc_seq_cols].to_numpy()\n",
    "        #orig_rewards = train_hist.loc[train_hist['step'] == step]['auc'].to_numpy()\n",
    "        orig_rewards = train_hist.loc[step_idx]['auc'].to_numpy()\n",
    "        orig_runtime = train_hist.loc[step_idx]['ctime'].to_numpy()\n",
    "        samp_idx = np.random.choice(arcs.shape[0], n_rep, replace=(n_rep>arcs.shape[0]))\n",
    "        arcs = arcs[samp_idx]\n",
    "        orig_rewards = orig_rewards[samp_idx]\n",
    "        orig_runtime = orig_runtime[samp_idx]\n",
    "\n",
    "        single_run_res[step] = []\n",
    "        step_time[step] = []\n",
    "        for i in range(n_rep):\n",
    "            if do_retrain:\n",
    "                reward, _ = manager.get_rewards(trial=global_manager_trial_cnt[k], model_arc=arcs.iloc[i])\n",
    "                print(reward)\n",
    "            else:\n",
    "                reward = orig_rewards[i]\n",
    "            global_manager_trial_cnt[k] += 1\n",
    "            single_run_res[step].append(reward)\n",
    "            step_time[step].append(orig_runtime[i])\n",
    "            global_manager_record = global_manager_record.append({\n",
    "                'manager': k, \n",
    "                'feat_name': feat_name, \n",
    "                'amber': 'sr', \n",
    "                'step': step,\n",
    "                'arc': ','.join([str(a) for a in arcs[i]]),\n",
    "                'reward': reward\n",
    "            }, ignore_index=True)\n",
    "\n",
    "    sr_df = pd.DataFrame([(k,v1, v2) for k in single_run_res for v1, v2 in zip(*[single_run_res[k], step_time[k]])], columns=['step', 'auc', 'time'])\n",
    "    sr_res[k] = sr_df"
   ]
  },
  {
   "cell_type": "markdown",
   "metadata": {},
   "source": [
    "## Merge with single-run AMBER"
   ]
  },
  {
   "cell_type": "code",
   "execution_count": 13,
   "metadata": {
    "scrolled": false
   },
   "outputs": [
    {
     "name": "stdout",
     "output_type": "stream",
     "text": [
      "FEAT480\n"
     ]
    },
    {
     "data": {
      "image/png": "[encoded data removed]",
      "text/plain": [
       "<Figure size 432x432 with 2 Axes>"
      ]
     },
     "metadata": {
      "needs_background": "light"
     },
     "output_type": "display_data"
    },
    {
     "name": "stdout",
     "output_type": "stream",
     "text": [
      "FEAT282\n"
     ]
    },
    {
     "data": {
      "image/png": "[encoded data removed]",
      "text/plain": [
       "<Figure size 432x432 with 2 Axes>"
      ]
     },
     "metadata": {
      "needs_background": "light"
     },
     "output_type": "display_data"
    },
    {
     "name": "stdout",
     "output_type": "stream",
     "text": [
      "FEAT304\n"
     ]
    },
    {
     "data": {
      "image/png": "[encoded data removed]",
      "text/plain": [
       "<Figure size 432x432 with 2 Axes>"
      ]
     },
     "metadata": {
      "needs_background": "light"
     },
     "output_type": "display_data"
    },
    {
     "name": "stdout",
     "output_type": "stream",
     "text": [
      "FEAT144\n"
     ]
    },
    {
     "data": {
      "image/png": "[encoded data removed]",
      "text/plain": [
       "<Figure size 432x432 with 2 Axes>"
      ]
     },
     "metadata": {
      "needs_background": "light"
     },
     "output_type": "display_data"
    }
   ],
   "source": [
    "from zs_config import read_metadata\n",
    "\n",
    "meta = read_metadata()\n",
    "\n",
    "def convert_timedelta(duration):\n",
    "    days, seconds = duration.days, duration.seconds\n",
    "    hours = days * 24 + seconds // 3600\n",
    "    minutes = (seconds % 3600) // 60\n",
    "    seconds = (seconds % 60)\n",
    "    return hours, minutes, seconds\n",
    "\n",
    "title_mapper = {\n",
    "    \"H1-hESC_YY1_None\": \"YY1 ChIP-seq from H1-hESC\",\n",
    "    \"WI-38_DNase_None\": \"DNase-seq from WI-38 cells\",\n",
    "    \"A549_Pol2_None\": \"RNA polymerase ChIP-seq from A549 cells\",\n",
    "    \"NHLF_H3K4me3_None\": \"H3K4me3 ChIP-seq from Normal Human Lung Fibroblasts\"\n",
    "}\n",
    "\n",
    "for k in configs:\n",
    "    fig = plt.figure(figsize=(6,6))\n",
    "    ax = fig.add_subplot(111)\n",
    "    ax2 = ax.twiny()\n",
    "    feat_name = configs[k]['feat_name']\n",
    "    print(feat_name)\n",
    "    human_readable_name = meta.loc[feat_name]['new_name']\n",
    "    sr_df = sr_res[k]\n",
    "    zs_auc = zs_res[k]\n",
    "    ax.axhspan(np.mean(zs_auc)-2*np.std(zs_auc), np.mean(zs_auc)+2*np.std(zs_auc), alpha=0.2, color='pink')\n",
    "    ax.axhline(y=np.mean(zs_auc), color='red', label=\"AMBIENT\")\n",
    "    sns.lineplot(x='step', y='auc', marker='o', ci='sd', label=\"AMBER\", data=sr_df, ax=ax)\n",
    "    #ax.set_title(\"Manager%i:%s:%s\"%(k,feat_name, human_readable_name))\n",
    "    ax.set_title(\"%s\"%( title_mapper[human_readable_name]))\n",
    "    ax.set_xlabel(\"AMBER step\")\n",
    "    ax.set_ylabel(\"Reward(AUC)\")\n",
    "    #ax.set_ylim(0.5, 1)\n",
    "\n",
    "    # add run-time as second x-axis\n",
    "    ax2.set_xlim(ax.get_xlim())\n",
    "    sr_auc_mean = sr_df.groupby(\"step\").mean()\n",
    "    new_tick_locations = [(sr_auc_mean-np.mean(zs_auc)>0).idxmax().tolist()[0], sr_df['step'].max()]\n",
    "    #print(new_tick_locations)\n",
    "    #ax2.set_xticks(new_tick_locations)\n",
    "    ax.set_xticks(new_tick_locations)\n",
    "    #ax2.set_xticklabels(sr_df.loc[new_tick_locations, \"time\"].apply(\n",
    "    #    lambda x: \"%shours\"%convert_timedelta(x)[0]))\n",
    "    ax.set_xticklabels(sr_df.loc[new_tick_locations, \"time\"].apply(lambda x: \"%shours\"%convert_timedelta(x)[0]))\n",
    "\n",
    "    #ax2.set_xlabel(\"GPU runtime\")\n",
    "    ax.set_xlabel(\"GPU runtime\")\n",
    "    ax2.axvline(x=new_tick_locations[0], linestyle='--', color='green')\n",
    "    \n",
    "    plt.savefig(\"./outputs/new_20200919/ZS_SR_comparison.%s.pdf\"%human_readable_name)    \n",
    "    plt.show()"
   ]
  },
  {
   "cell_type": "code",
   "execution_count": 14,
   "metadata": {},
   "outputs": [],
   "source": [
    "global_manager_record.to_csv(\"outputs/new_20200919/ZS_SR_comparison.tsv\", sep=\"\\t\")"
   ]
  },
  {
   "cell_type": "code",
   "execution_count": null,
   "metadata": {},
   "outputs": [],
   "source": []
  }
 ],
 "metadata": {
  "kernelspec": {
   "display_name": "Python 3",
   "language": "python",
   "name": "python3"
  },
  "language_info": {
   "codemirror_mode": {
    "name": "ipython",
    "version": 3
   },
   "file_extension": ".py",
   "mimetype": "text/x-python",
   "name": "python",
   "nbconvert_exporter": "python",
   "pygments_lexer": "ipython3",
   "version": "3.7.4"
  }
 },
 "nbformat": 4,
 "nbformat_minor": 2
}
