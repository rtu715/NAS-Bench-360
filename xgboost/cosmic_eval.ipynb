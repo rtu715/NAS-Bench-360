{
 "cells": [
  {
   "cell_type": "code",
   "execution_count": 1,
   "metadata": {},
   "outputs": [
    {
     "name": "stderr",
     "output_type": "stream",
     "text": [
      "/home/nick/anaconda3/envs/perceiver-io/lib/python3.9/site-packages/tqdm/auto.py:22: TqdmWarning: IProgress not found. Please update jupyter and ipywidgets. See https://ipywidgets.readthedocs.io/en/stable/user_install.html\n",
      "  from .autonotebook import tqdm as notebook_tqdm\n"
     ]
    }
   ],
   "source": [
    "from perceiver.data import *\n",
    "import utils\n",
    "import numpy as np\n",
    "from sklearn import metrics"
   ]
  },
  {
   "cell_type": "code",
   "execution_count": null,
   "metadata": {},
   "outputs": [],
   "source": []
  },
  {
   "cell_type": "code",
   "execution_count": null,
   "metadata": {},
   "outputs": [],
   "source": []
  },
  {
   "cell_type": "code",
   "execution_count": 2,
   "metadata": {},
   "outputs": [
    {
     "name": "stdout",
     "output_type": "stream",
     "text": [
      "../datasets/cosmic\n",
      "../datasets/cosmic/npy_train/f435w/9490/a3/2_208.npy\n",
      "49\n",
      "(4830, 16384) (4830, 16384)\n"
     ]
    }
   ],
   "source": [
    "dm = CosmicDataModule(batch_size=100, root=\"../datasets\")\n",
    "dm.setup(stage=None)\n",
    "x_test, y_test = utils.dm_to_numpy(dm.test_dataloader())"
   ]
  },
  {
   "cell_type": "code",
   "execution_count": 3,
   "metadata": {},
   "outputs": [],
   "source": [
    "dl = dm.test_dataloader()\n"
   ]
  },
  {
   "cell_type": "code",
   "execution_count": 4,
   "metadata": {},
   "outputs": [],
   "source": [
    "imgs, masks, ignores = [], [], []\n",
    "for batch in dl:\n",
    "    img, mask, ignore = batch\n",
    "    imgs.append(img.numpy())\n",
    "    masks.append(mask.numpy())\n",
    "    ignores.append(ignore.numpy())\n"
   ]
  },
  {
   "cell_type": "code",
   "execution_count": 5,
   "metadata": {},
   "outputs": [],
   "source": [
    "imgs = np.concatenate(imgs)\n",
    "masks = np.concatenate(masks)\n",
    "ignores = np.concatenate(ignores)"
   ]
  },
  {
   "cell_type": "code",
   "execution_count": 6,
   "metadata": {},
   "outputs": [
    {
     "name": "stdout",
     "output_type": "stream",
     "text": [
      "(4830, 128, 128)\n"
     ]
    }
   ],
   "source": [
    "print(imgs.shape)"
   ]
  },
  {
   "cell_type": "markdown",
   "metadata": {},
   "source": [
    "# Load the model"
   ]
  },
  {
   "cell_type": "code",
   "execution_count": 7,
   "metadata": {},
   "outputs": [],
   "source": [
    "import xgboost as xgb\n",
    "\n",
    "def eval_cosmic_seed(seed):\n",
    "    model = xgb.XGBClassifier()\n",
    "    model.load_model(f\"../xgboost_model_cosmic_{seed}.json\")\n",
    "    logits = model.predict([x.reshape(-1) for x in imgs]).reshape(*imgs.shape)\n",
    "    logits = logits.flatten()\n",
    "\n",
    "    test_predictions = (logits.reshape(-1, 1, 128, 128) > 0.5).flatten()\n",
    "    test_gts = masks.reshape(-1, 1, 128, 128).flatten()\n",
    "\n",
    "    print(test_predictions.shape)\n",
    "    print(test_gts.shape)\n",
    "\n",
    "\n",
    "    test_predictions = test_predictions.astype(np.int32)\n",
    "    test_gts = test_gts.astype(np.int32)\n",
    "    auroc = metrics.roc_auc_score(test_gts, test_predictions)\n",
    "\n",
    "    return 1 - auroc"
   ]
  },
  {
   "cell_type": "code",
   "execution_count": 8,
   "metadata": {},
   "outputs": [
    {
     "name": "stdout",
     "output_type": "stream",
     "text": [
      "(79134720,)\n",
      "(79134720,)\n",
      "(79134720,)\n",
      "(79134720,)\n",
      "(79134720,)\n",
      "(79134720,)\n"
     ]
    },
    {
     "data": {
      "text/plain": [
       "[0.2322921349727951, 0.23098545855749997, 0.23206601628611412]"
      ]
     },
     "execution_count": 8,
     "metadata": {},
     "output_type": "execute_result"
    }
   ],
   "source": [
    "res = [eval_cosmic_seed(i) for i in range(3)]\n",
    "res"
   ]
  },
  {
   "cell_type": "code",
   "execution_count": 9,
   "metadata": {},
   "outputs": [
    {
     "name": "stdout",
     "output_type": "stream",
     "text": [
      "23.178120327213637 0.057019859304774476\n"
     ]
    }
   ],
   "source": [
    "res = np.array(res) * 100\n",
    "mean = np.mean(res)\n",
    "std = np.std(res)\n",
    "\n",
    "print(mean, std)"
   ]
  },
  {
   "cell_type": "code",
   "execution_count": null,
   "metadata": {},
   "outputs": [],
   "source": []
  }
 ],
 "metadata": {
  "interpreter": {
   "hash": "c38ddd05bf56706ba4389aebe33b9e08a1ad4d8f8566ec40e1e11ab73ad1579c"
  },
  "kernelspec": {
   "display_name": "Python 3 (ipykernel)",
   "language": "python",
   "name": "python3"
  },
  "language_info": {
   "codemirror_mode": {
    "name": "ipython",
    "version": 3
   },
   "file_extension": ".py",
   "mimetype": "text/x-python",
   "name": "python",
   "nbconvert_exporter": "python",
   "pygments_lexer": "ipython3",
   "version": "3.9.10"
  },
  "orig_nbformat": 4
 },
 "nbformat": 4,
 "nbformat_minor": 2
}
