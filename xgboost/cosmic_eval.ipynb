{
 "cells": [
  {
   "cell_type": "code",
   "execution_count": 13,
   "metadata": {},
   "outputs": [],
   "source": [
    "from perceiver.data import *\n",
    "import utils\n",
    "import numpy as np"
   ]
  },
  {
   "cell_type": "code",
   "execution_count": 66,
   "metadata": {},
   "outputs": [],
   "source": [
    "def maskMetric(PD, GT):\n",
    "    PD = PD.reshape(1, -1)\n",
    "    GT = GT.reshape(1, -1)\n",
    "    TP, TN, FP, FN = 0, 0, 0, 0\n",
    "    for i in range(GT.shape[0]):\n",
    "        P = GT[i].sum()\n",
    "        TP += (PD[i][GT[i] == 1] == 1).sum()\n",
    "        TN += (PD[i][GT[i] == 0] == 0).sum()\n",
    "        FP += (PD[i][GT[i] == 0] == 1).sum()\n",
    "        FN += (PD[i][GT[i] == 1] == 0).sum()\n",
    "    return np.array([float(TP), float(TN), float(FP), float(FN)])"
   ]
  },
  {
   "cell_type": "code",
   "execution_count": null,
   "metadata": {},
   "outputs": [],
   "source": []
  },
  {
   "cell_type": "code",
   "execution_count": 15,
   "metadata": {},
   "outputs": [
    {
     "name": "stdout",
     "output_type": "stream",
     "text": [
      "../datasets/cosmic\n",
      "../datasets/cosmic/npy_train/f435w/9490/a3/2_208.npy\n"
     ]
    }
   ],
   "source": [
    "dm = CosmicDataModule(batch_size=100, root=\"../datasets\")\n",
    "dm.setup(stage=None)\n",
    "x_test, y_test = utils.dm_to_numpy(dm.test_dataloader())"
   ]
  },
  {
   "cell_type": "code",
   "execution_count": 25,
   "metadata": {},
   "outputs": [],
   "source": [
    "dl = dm.test_dataloader()\n"
   ]
  },
  {
   "cell_type": "code",
   "execution_count": 34,
   "metadata": {},
   "outputs": [],
   "source": [
    "imgs, masks, ignores = [], [], []\n",
    "for batch in dl:\n",
    "    img, mask, ignore = batch\n",
    "    imgs.append(img.numpy())\n",
    "    masks.append(mask.numpy())\n",
    "    ignores.append(ignore.numpy())\n"
   ]
  },
  {
   "cell_type": "code",
   "execution_count": 38,
   "metadata": {},
   "outputs": [],
   "source": [
    "imgs = np.concatenate(imgs)\n",
    "masks = np.concatenate(masks)\n",
    "ignores = np.concatenate(ignores)"
   ]
  },
  {
   "cell_type": "code",
   "execution_count": 39,
   "metadata": {},
   "outputs": [
    {
     "name": "stdout",
     "output_type": "stream",
     "text": [
      "(4830, 128, 128)\n"
     ]
    }
   ],
   "source": [
    "print(imgs.shape)"
   ]
  },
  {
   "cell_type": "markdown",
   "metadata": {},
   "source": [
    "# Load the model"
   ]
  },
  {
   "cell_type": "code",
   "execution_count": 71,
   "metadata": {},
   "outputs": [],
   "source": [
    "import xgboost as xgb\n",
    "\n",
    "def eval_cosmic_seed(seed):\n",
    "    model = xgb.XGBClassifier()\n",
    "    model.load_model(f\"../xgboost_model_cosmic_{seed}.json\")\n",
    "    logits = model.predict([x.reshape(-1) for x in imgs]).reshape(*imgs.shape)\n",
    "    tp, tn, fp, fn = maskMetric(\n",
    "        logits.reshape(-1, 1, 128, 128) > 0.5, \n",
    "        masks.reshape(-1, 1, 128, 128))\n",
    "\n",
    "    fpr = fn / (fn + tp)\n",
    "    return fpr"
   ]
  },
  {
   "cell_type": "code",
   "execution_count": 73,
   "metadata": {},
   "outputs": [
    {
     "data": {
      "text/plain": [
       "[0.46172886435650445, 0.46226738011205, 0.46388732701721225]"
      ]
     },
     "execution_count": 73,
     "metadata": {},
     "output_type": "execute_result"
    }
   ],
   "source": [
    "res = [eval_cosmic_seed(i) for i in range(3)]\n",
    "res"
   ]
  },
  {
   "cell_type": "code",
   "execution_count": 79,
   "metadata": {},
   "outputs": [
    {
     "name": "stdout",
     "output_type": "stream",
     "text": [
      "46.26278571619222 0.09173142108099631\n"
     ]
    }
   ],
   "source": [
    "res = np.array(res) * 100\n",
    "mean = np.mean(res)\n",
    "std = np.std(res)\n",
    "\n",
    "print(mean, std)"
   ]
  },
  {
   "cell_type": "code",
   "execution_count": null,
   "metadata": {},
   "outputs": [],
   "source": []
  }
 ],
 "metadata": {
  "interpreter": {
   "hash": "c38ddd05bf56706ba4389aebe33b9e08a1ad4d8f8566ec40e1e11ab73ad1579c"
  },
  "kernelspec": {
   "display_name": "Python 3.9.10 ('perceiver-io')",
   "language": "python",
   "name": "python3"
  },
  "language_info": {
   "codemirror_mode": {
    "name": "ipython",
    "version": 3
   },
   "file_extension": ".py",
   "mimetype": "text/x-python",
   "name": "python",
   "nbconvert_exporter": "python",
   "pygments_lexer": "ipython3",
   "version": "3.9.10"
  },
  "orig_nbformat": 4
 },
 "nbformat": 4,
 "nbformat_minor": 2
}
