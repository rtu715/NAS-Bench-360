{
 "cells": [
  {
   "cell_type": "code",
   "execution_count": 18,
   "metadata": {},
   "outputs": [],
   "source": [
    "import numpy as np"
   ]
  },
  {
   "cell_type": "code",
   "execution_count": 19,
   "metadata": {},
   "outputs": [],
   "source": [
    "def process_log(fname, kwd='test score: '):\n",
    "    res = 0.0\n",
    "    with open(fname, 'r') as f:\n",
    "        for line in f.readlines():\n",
    "            if kwd in line:\n",
    "                res = float(line.split(kwd)[1].strip())\n",
    "    return res"
   ]
  },
  {
   "cell_type": "markdown",
   "metadata": {},
   "source": [
    "# Cifar100"
   ]
  },
  {
   "cell_type": "code",
   "execution_count": 20,
   "metadata": {},
   "outputs": [
    {
     "name": "stdout",
     "output_type": "stream",
     "text": [
      "mean: 99.2733\n",
      "std:  0.5170\n"
     ]
    }
   ],
   "source": [
    "accs = [process_log(f'results/cifar100_{i}.log') for i in range(3)]\n",
    "print(f'mean: {(1 - np.mean(accs)) * 100:.4f}')\n",
    "print(f'std:  {np.std(accs) * 100:.4f}')"
   ]
  },
  {
   "cell_type": "markdown",
   "metadata": {},
   "source": [
    "# Spherical"
   ]
  },
  {
   "cell_type": "code",
   "execution_count": 21,
   "metadata": {},
   "outputs": [
    {
     "name": "stdout",
     "output_type": "stream",
     "text": [
      "mean: 98.9533\n",
      "std:  0.0573\n"
     ]
    }
   ],
   "source": [
    "accs = [process_log(f'results/spherical_{i}.log') for i in range(3)]\n",
    "print(f'mean: {(1 - np.mean(accs)) * 100:.4f}')\n",
    "print(f'std:  {np.std(accs) * 100:.4f}')"
   ]
  },
  {
   "cell_type": "markdown",
   "metadata": {},
   "source": [
    "# NinaPro"
   ]
  },
  {
   "cell_type": "code",
   "execution_count": 22,
   "metadata": {},
   "outputs": [
    {
     "name": "stdout",
     "output_type": "stream",
     "text": [
      "mean: 35.2554\n",
      "std:  0.1893\n"
     ]
    }
   ],
   "source": [
    "accs = [process_log(f'results/ninapro_{i}.log') for i in range(3)]\n",
    "print(f'mean: {(1 - np.mean(accs)) * 100:.4f}')\n",
    "print(f'std:  {np.std(accs) * 100:.4f}')"
   ]
  },
  {
   "cell_type": "markdown",
   "metadata": {},
   "source": [
    "# Satellite "
   ]
  },
  {
   "cell_type": "code",
   "execution_count": 23,
   "metadata": {},
   "outputs": [
    {
     "name": "stdout",
     "output_type": "stream",
     "text": [
      "mean: 76.0813\n",
      "std:  0.0210\n"
     ]
    }
   ],
   "source": [
    "accs = [process_log(f'results/satellite_{i}.log') for i in range(3)]\n",
    "print(f'mean: {(1 - np.mean(accs)) * 100:.4f}')\n",
    "print(f'std:  {np.std(accs) * 100:.4f}')"
   ]
  },
  {
   "cell_type": "markdown",
   "metadata": {},
   "source": [
    "# DeepSEA"
   ]
  },
  {
   "cell_type": "code",
   "execution_count": 24,
   "metadata": {},
   "outputs": [
    {
     "name": "stdout",
     "output_type": "stream",
     "text": [
      "mean: 0.5000\n",
      "std:  0.0000\n"
     ]
    }
   ],
   "source": [
    "accs = [process_log(f'results/deepsea_{i}.log') for i in range(3)]\n",
    "print(f'mean: {np.mean(accs):.4f}')\n",
    "print(f'std:  {np.std(accs):.4f}')"
   ]
  },
  {
   "cell_type": "markdown",
   "metadata": {},
   "source": [
    "# ECG"
   ]
  },
  {
   "cell_type": "code",
   "execution_count": 25,
   "metadata": {},
   "outputs": [
    {
     "name": "stdout",
     "output_type": "stream",
     "text": [
      "mean: 0.1362\n",
      "std:  0.0036\n"
     ]
    }
   ],
   "source": [
    "accs = [process_log(f'results/ecg_{i}.log') for i in range(3)]\n",
    "print(f'mean: {np.mean(accs):.4f}')\n",
    "print(f'std:  {np.std(accs):.4f}')"
   ]
  },
  {
   "cell_type": "code",
   "execution_count": null,
   "metadata": {},
   "outputs": [],
   "source": []
  }
 ],
 "metadata": {
  "interpreter": {
   "hash": "c38ddd05bf56706ba4389aebe33b9e08a1ad4d8f8566ec40e1e11ab73ad1579c"
  },
  "kernelspec": {
   "display_name": "Python 3.9.10 ('perceiver-io')",
   "language": "python",
   "name": "python3"
  },
  "language_info": {
   "codemirror_mode": {
    "name": "ipython",
    "version": 3
   },
   "file_extension": ".py",
   "mimetype": "text/x-python",
   "name": "python",
   "nbconvert_exporter": "python",
   "pygments_lexer": "ipython3",
   "version": "3.9.10"
  },
  "orig_nbformat": 4
 },
 "nbformat": 4,
 "nbformat_minor": 2
}
