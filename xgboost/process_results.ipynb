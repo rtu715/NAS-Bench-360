{
 "cells": [
  {
   "cell_type": "code",
   "execution_count": 19,
   "metadata": {},
   "outputs": [],
   "source": [
    "import numpy as np"
   ]
  },
  {
   "cell_type": "code",
   "execution_count": 20,
   "metadata": {},
   "outputs": [],
   "source": [
    "def process_log(fname, kwd='test score: '):\n",
    "    res = 0.0\n",
    "    with open(fname, 'r') as f:\n",
    "        for line in f.readlines():\n",
    "            if kwd in line:\n",
    "                res = float(line.split(kwd)[1].strip())\n",
    "    return res\n",
    "\n",
    "nseeds = 3"
   ]
  },
  {
   "cell_type": "markdown",
   "metadata": {},
   "source": [
    "# Cifar100"
   ]
  },
  {
   "cell_type": "code",
   "execution_count": 21,
   "metadata": {},
   "outputs": [
    {
     "name": "stdout",
     "output_type": "stream",
     "text": [
      "mean: 84.8267\n",
      "std:  4.1540\n"
     ]
    }
   ],
   "source": [
    "accs = [process_log(f'results/cifar100_{i}.log') for i in range(nseeds)]\n",
    "print(f'mean: {(1 - np.mean(accs)) * 100:.4f}')\n",
    "print(f'std:  {np.std(accs) * 100:.4f}')"
   ]
  },
  {
   "cell_type": "markdown",
   "metadata": {},
   "source": [
    "# Spherical"
   ]
  },
  {
   "cell_type": "code",
   "execution_count": 22,
   "metadata": {},
   "outputs": [
    {
     "name": "stdout",
     "output_type": "stream",
     "text": [
      "mean: 96.9167\n",
      "std:  0.0249\n"
     ]
    }
   ],
   "source": [
    "accs = [process_log(f'results/spherical_{i}.log') for i in range(nseeds)]\n",
    "print(f'mean: {(1 - np.mean(accs)) * 100:.4f}')\n",
    "print(f'std:  {np.std(accs) * 100:.4f}')"
   ]
  },
  {
   "cell_type": "markdown",
   "metadata": {},
   "source": [
    "# NinaPro"
   ]
  },
  {
   "cell_type": "code",
   "execution_count": 23,
   "metadata": {},
   "outputs": [
    {
     "name": "stdout",
     "output_type": "stream",
     "text": [
      "mean: 21.9019\n",
      "std:  0.7045\n"
     ]
    }
   ],
   "source": [
    "accs = [process_log(f'results/ninapro_{i}.log') for i in range(nseeds)]\n",
    "print(f'mean: {(1 - np.mean(accs)) * 100:.4f}')\n",
    "print(f'std:  {np.std(accs) * 100:.4f}')"
   ]
  },
  {
   "cell_type": "markdown",
   "metadata": {},
   "source": [
    "# Satellite "
   ]
  },
  {
   "cell_type": "code",
   "execution_count": 24,
   "metadata": {},
   "outputs": [
    {
     "name": "stdout",
     "output_type": "stream",
     "text": [
      "mean: 36.3560\n",
      "std:  0.0156\n"
     ]
    }
   ],
   "source": [
    "accs = [process_log(f'results/satellite_{i}.log') for i in range(nseeds)]\n",
    "print(f'mean: {(1 - np.mean(accs)) * 100:.4f}')\n",
    "print(f'std:  {np.std(accs) * 100:.4f}')"
   ]
  },
  {
   "cell_type": "markdown",
   "metadata": {},
   "source": [
    "# DeepSEA"
   ]
  },
  {
   "cell_type": "code",
   "execution_count": 25,
   "metadata": {},
   "outputs": [
    {
     "name": "stdout",
     "output_type": "stream",
     "text": [
      "mean: 0.5006\n",
      "std:  0.0002\n"
     ]
    }
   ],
   "source": [
    "accs = [process_log(f'results/deepsea_{i}.log') for i in range(nseeds)]\n",
    "print(f'mean: {np.mean(accs):.4f}')\n",
    "print(f'std:  {np.std(accs):.4f}')"
   ]
  },
  {
   "cell_type": "markdown",
   "metadata": {},
   "source": [
    "# ECG"
   ]
  },
  {
   "cell_type": "code",
   "execution_count": 26,
   "metadata": {},
   "outputs": [
    {
     "name": "stdout",
     "output_type": "stream",
     "text": [
      "mean: 0.4452\n",
      "std:  0.0006\n"
     ]
    }
   ],
   "source": [
    "accs = [process_log(f'results/ecg_{i}.log') for i in range(nseeds)]\n",
    "print(f'mean: {np.mean(accs):.4f}')\n",
    "print(f'std:  {np.std(accs):.4f}')"
   ]
  },
  {
   "cell_type": "markdown",
   "metadata": {},
   "source": [
    "# FSD50K"
   ]
  },
  {
   "cell_type": "code",
   "execution_count": 27,
   "metadata": {},
   "outputs": [
    {
     "name": "stdout",
     "output_type": "stream",
     "text": [
      "mean: 0.0136\n",
      "std:  0.0017\n"
     ]
    }
   ],
   "source": [
    "accs = [process_log(f'results/fsd50k_{i}.log') for i in range(nseeds)]\n",
    "print(f'mean: {np.mean(accs):.4f}')\n",
    "print(f'std:  {np.std(accs):.4f}')"
   ]
  },
  {
   "cell_type": "markdown",
   "metadata": {},
   "source": [
    "# Darcy Flow"
   ]
  },
  {
   "cell_type": "code",
   "execution_count": 29,
   "metadata": {},
   "outputs": [
    {
     "name": "stdout",
     "output_type": "stream",
     "text": [
      "mean: 0.0850\n",
      "std:  0.0001\n"
     ]
    },
    {
     "ename": "",
     "evalue": "",
     "output_type": "error",
     "traceback": [
      "\u001b[1;31mThe Kernel crashed while executing code in the the current cell or a previous cell. Please review the code in the cell(s) to identify a possible cause of the failure. Click <a href='https://aka.ms/vscodeJupyterKernelCrash'>here</a> for more info. View Jupyter <a href='command:jupyter.viewOutput'>log</a> for further details."
     ]
    }
   ],
   "source": [
    "# Darcy Flow\n",
    "accs = [process_log(f'results/darcyflow_{i}.log') for i in range(nseeds)]\n",
    "print(f'mean: {np.mean(accs):.4f}')\n",
    "print(f'std:  {np.std(accs):.4f}')"
   ]
  },
  {
   "cell_type": "code",
   "execution_count": null,
   "metadata": {},
   "outputs": [],
   "source": []
  }
 ],
 "metadata": {
  "interpreter": {
   "hash": "c38ddd05bf56706ba4389aebe33b9e08a1ad4d8f8566ec40e1e11ab73ad1579c"
  },
  "kernelspec": {
   "display_name": "Python 3.9.10 ('perceiver-io')",
   "language": "python",
   "name": "python3"
  },
  "language_info": {
   "codemirror_mode": {
    "name": "ipython",
    "version": 3
   },
   "file_extension": ".py",
   "mimetype": "text/x-python",
   "name": "python",
   "nbconvert_exporter": "python",
   "pygments_lexer": "ipython3",
   "version": "3.9.10"
  },
  "orig_nbformat": 4
 },
 "nbformat": 4,
 "nbformat_minor": 2
}
