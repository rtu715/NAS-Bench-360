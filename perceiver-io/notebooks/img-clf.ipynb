{
 "cells": [
  {
   "cell_type": "markdown",
   "id": "3446d878",
   "metadata": {},
   "source": [
    "# Image classification"
   ]
  },
  {
   "cell_type": "code",
   "execution_count": 1,
   "id": "22d1d2ff",
   "metadata": {},
   "outputs": [],
   "source": [
    "import torch\n",
    "import numpy as np\n",
    "import matplotlib.pyplot as plt\n",
    "\n",
    "from perceiver.model import LitImageClassifier"
   ]
  },
  {
   "cell_type": "code",
   "execution_count": 2,
   "id": "a1548d53",
   "metadata": {},
   "outputs": [],
   "source": [
    "from torchvision.datasets import MNIST\n",
    "from perceiver.data import MNISTPreprocessor\n",
    "\n",
    "mnist = MNIST(root='../.cache', train=False)\n",
    "mnist_preproc = MNISTPreprocessor()"
   ]
  },
  {
   "cell_type": "code",
   "execution_count": 3,
   "id": "0f62aea8",
   "metadata": {},
   "outputs": [
    {
     "name": "stdout",
     "output_type": "stream",
     "text": [
      "File ‘logs.zip’ already there; not retrieving.\r\n"
     ]
    }
   ],
   "source": [
    "# Download model checkpoints\n",
    "!wget -nc -O logs.zip https://martin-krasser.com/perceiver/logs-update-2.zip\n",
    "!unzip -qo logs.zip"
   ]
  },
  {
   "cell_type": "code",
   "execution_count": 4,
   "id": "6d777633",
   "metadata": {},
   "outputs": [],
   "source": [
    "ckpt_path = 'logs/img_clf/version_0/checkpoints/epoch=018-val_loss=0.087.ckpt'\n",
    "\n",
    "model = LitImageClassifier.load_from_checkpoint(ckpt_path).model\n",
    "model.eval();"
   ]
  },
  {
   "cell_type": "code",
   "execution_count": 5,
   "id": "c0846b9c",
   "metadata": {},
   "outputs": [],
   "source": [
    "cols, rows = 3, 3\n",
    "imgs = [mnist[i][0] for i in range(cols * rows)]"
   ]
  },
  {
   "cell_type": "code",
   "execution_count": 6,
   "id": "c5c6ed54",
   "metadata": {},
   "outputs": [],
   "source": [
    "with torch.no_grad():\n",
    "    logits = model(mnist_preproc.preprocess_batch(imgs))\n",
    "    preds = logits.argmax(dim=1)"
   ]
  },
  {
   "cell_type": "code",
   "execution_count": 7,
   "id": "f3417dbc",
   "metadata": {},
   "outputs": [
    {
     "data": {
      "image/png": "[encoded data removed]",
      "text/plain": [
       "<Figure size 576x576 with 9 Axes>"
      ]
     },
     "metadata": {
      "needs_background": "light"
     },
     "output_type": "display_data"
    }
   ],
   "source": [
    "plt.figure(figsize=(8, 8))\n",
    "for i, (img, pred) in enumerate(zip(imgs, preds)):\n",
    "    plt.subplot(rows, cols, i + 1)\n",
    "    plt.axis('off')\n",
    "    plt.title(f'Prediction: {pred}')\n",
    "    plt.imshow(np.array(img), cmap='gray')"
   ]
  }
 ],
 "metadata": {
  "kernelspec": {
   "display_name": "Python 3 (ipykernel)",
   "language": "python",
   "name": "python3"
  },
  "language_info": {
   "codemirror_mode": {
    "name": "ipython",
    "version": 3
   },
   "file_extension": ".py",
   "mimetype": "text/x-python",
   "name": "python",
   "nbconvert_exporter": "python",
   "pygments_lexer": "ipython3",
   "version": "3.9.9"
  }
 },
 "nbformat": 4,
 "nbformat_minor": 5
}
